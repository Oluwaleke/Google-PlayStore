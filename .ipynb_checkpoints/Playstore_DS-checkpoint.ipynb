{
 "cells": [
  {
   "cell_type": "code",
   "execution_count": 1,
   "id": "3738b4f1",
   "metadata": {},
   "outputs": [],
   "source": [
    "import pandas as pd\n",
    "import numpy as np\n",
    "import matplotlib.pyplot as plt\n",
    "import seaborn as sns\n",
    "%matplotlib inline"
   ]
  },
  {
   "cell_type": "markdown",
   "id": "d9688156",
   "metadata": {},
   "source": [
    "#### Data preparation and cleaning"
   ]
  },
  {
   "cell_type": "code",
   "execution_count": 2,
   "id": "d38748f6",
   "metadata": {},
   "outputs": [],
   "source": [
    "data = 'Google-Playstore.csv'"
   ]
  },
  {
   "cell_type": "code",
   "execution_count": 3,
   "id": "7eccb7d3",
   "metadata": {},
   "outputs": [
    {
     "data": {
      "text/html": [
       "<div>\n",
       "<style scoped>\n",
       "    .dataframe tbody tr th:only-of-type {\n",
       "        vertical-align: middle;\n",
       "    }\n",
       "\n",
       "    .dataframe tbody tr th {\n",
       "        vertical-align: top;\n",
       "    }\n",
       "\n",
       "    .dataframe thead th {\n",
       "        text-align: right;\n",
       "    }\n",
       "</style>\n",
       "<table border=\"1\" class=\"dataframe\">\n",
       "  <thead>\n",
       "    <tr style=\"text-align: right;\">\n",
       "      <th></th>\n",
       "      <th>App Name</th>\n",
       "      <th>App Id</th>\n",
       "      <th>Category</th>\n",
       "      <th>Rating</th>\n",
       "      <th>Rating Count</th>\n",
       "      <th>Installs</th>\n",
       "      <th>Minimum Installs</th>\n",
       "      <th>Maximum Installs</th>\n",
       "      <th>Free</th>\n",
       "      <th>Price</th>\n",
       "      <th>...</th>\n",
       "      <th>Developer Website</th>\n",
       "      <th>Developer Email</th>\n",
       "      <th>Released</th>\n",
       "      <th>Last Updated</th>\n",
       "      <th>Content Rating</th>\n",
       "      <th>Privacy Policy</th>\n",
       "      <th>Ad Supported</th>\n",
       "      <th>In App Purchases</th>\n",
       "      <th>Editors Choice</th>\n",
       "      <th>Scraped Time</th>\n",
       "    </tr>\n",
       "  </thead>\n",
       "  <tbody>\n",
       "    <tr>\n",
       "      <th>0</th>\n",
       "      <td>Gakondo</td>\n",
       "      <td>com.ishakwe.gakondo</td>\n",
       "      <td>Adventure</td>\n",
       "      <td>0.0</td>\n",
       "      <td>0.0</td>\n",
       "      <td>10+</td>\n",
       "      <td>10.0</td>\n",
       "      <td>15</td>\n",
       "      <td>True</td>\n",
       "      <td>0.0</td>\n",
       "      <td>...</td>\n",
       "      <td>https://beniyizibyose.tk/#/</td>\n",
       "      <td>jean21101999@gmail.com</td>\n",
       "      <td>Feb 26, 2020</td>\n",
       "      <td>Feb 26, 2020</td>\n",
       "      <td>Everyone</td>\n",
       "      <td>https://beniyizibyose.tk/projects/</td>\n",
       "      <td>False</td>\n",
       "      <td>False</td>\n",
       "      <td>False</td>\n",
       "      <td>2021-06-15 20:19:35</td>\n",
       "    </tr>\n",
       "    <tr>\n",
       "      <th>1</th>\n",
       "      <td>Ampere Battery Info</td>\n",
       "      <td>com.webserveis.batteryinfo</td>\n",
       "      <td>Tools</td>\n",
       "      <td>4.4</td>\n",
       "      <td>64.0</td>\n",
       "      <td>5,000+</td>\n",
       "      <td>5000.0</td>\n",
       "      <td>7662</td>\n",
       "      <td>True</td>\n",
       "      <td>0.0</td>\n",
       "      <td>...</td>\n",
       "      <td>https://webserveis.netlify.app/</td>\n",
       "      <td>webserveis@gmail.com</td>\n",
       "      <td>May 21, 2020</td>\n",
       "      <td>May 06, 2021</td>\n",
       "      <td>Everyone</td>\n",
       "      <td>https://dev4phones.wordpress.com/licencia-de-uso/</td>\n",
       "      <td>True</td>\n",
       "      <td>False</td>\n",
       "      <td>False</td>\n",
       "      <td>2021-06-15 20:19:35</td>\n",
       "    </tr>\n",
       "    <tr>\n",
       "      <th>2</th>\n",
       "      <td>Vibook</td>\n",
       "      <td>com.doantiepvien.crm</td>\n",
       "      <td>Productivity</td>\n",
       "      <td>0.0</td>\n",
       "      <td>0.0</td>\n",
       "      <td>50+</td>\n",
       "      <td>50.0</td>\n",
       "      <td>58</td>\n",
       "      <td>True</td>\n",
       "      <td>0.0</td>\n",
       "      <td>...</td>\n",
       "      <td>NaN</td>\n",
       "      <td>vnacrewit@gmail.com</td>\n",
       "      <td>Aug 9, 2019</td>\n",
       "      <td>Aug 19, 2019</td>\n",
       "      <td>Everyone</td>\n",
       "      <td>https://www.vietnamairlines.com/vn/en/terms-an...</td>\n",
       "      <td>False</td>\n",
       "      <td>False</td>\n",
       "      <td>False</td>\n",
       "      <td>2021-06-15 20:19:35</td>\n",
       "    </tr>\n",
       "    <tr>\n",
       "      <th>3</th>\n",
       "      <td>Smart City Trichy Public Service Vehicles 17UC...</td>\n",
       "      <td>cst.stJoseph.ug17ucs548</td>\n",
       "      <td>Communication</td>\n",
       "      <td>5.0</td>\n",
       "      <td>5.0</td>\n",
       "      <td>10+</td>\n",
       "      <td>10.0</td>\n",
       "      <td>19</td>\n",
       "      <td>True</td>\n",
       "      <td>0.0</td>\n",
       "      <td>...</td>\n",
       "      <td>http://www.climatesmarttech.com/</td>\n",
       "      <td>climatesmarttech2@gmail.com</td>\n",
       "      <td>Sep 10, 2018</td>\n",
       "      <td>Oct 13, 2018</td>\n",
       "      <td>Everyone</td>\n",
       "      <td>NaN</td>\n",
       "      <td>True</td>\n",
       "      <td>False</td>\n",
       "      <td>False</td>\n",
       "      <td>2021-06-15 20:19:35</td>\n",
       "    </tr>\n",
       "    <tr>\n",
       "      <th>4</th>\n",
       "      <td>GROW.me</td>\n",
       "      <td>com.horodyski.grower</td>\n",
       "      <td>Tools</td>\n",
       "      <td>0.0</td>\n",
       "      <td>0.0</td>\n",
       "      <td>100+</td>\n",
       "      <td>100.0</td>\n",
       "      <td>478</td>\n",
       "      <td>True</td>\n",
       "      <td>0.0</td>\n",
       "      <td>...</td>\n",
       "      <td>http://www.horodyski.com.pl</td>\n",
       "      <td>rmilekhorodyski@gmail.com</td>\n",
       "      <td>Feb 21, 2020</td>\n",
       "      <td>Nov 12, 2018</td>\n",
       "      <td>Everyone</td>\n",
       "      <td>http://www.horodyski.com.pl</td>\n",
       "      <td>False</td>\n",
       "      <td>False</td>\n",
       "      <td>False</td>\n",
       "      <td>2021-06-15 20:19:35</td>\n",
       "    </tr>\n",
       "  </tbody>\n",
       "</table>\n",
       "<p>5 rows × 24 columns</p>\n",
       "</div>"
      ],
      "text/plain": [
       "                                            App Name  \\\n",
       "0                                            Gakondo   \n",
       "1                                Ampere Battery Info   \n",
       "2                                             Vibook   \n",
       "3  Smart City Trichy Public Service Vehicles 17UC...   \n",
       "4                                            GROW.me   \n",
       "\n",
       "                       App Id       Category  Rating  Rating Count Installs  \\\n",
       "0         com.ishakwe.gakondo      Adventure     0.0           0.0      10+   \n",
       "1  com.webserveis.batteryinfo          Tools     4.4          64.0   5,000+   \n",
       "2        com.doantiepvien.crm   Productivity     0.0           0.0      50+   \n",
       "3     cst.stJoseph.ug17ucs548  Communication     5.0           5.0      10+   \n",
       "4        com.horodyski.grower          Tools     0.0           0.0     100+   \n",
       "\n",
       "   Minimum Installs  Maximum Installs  Free  Price  ...  \\\n",
       "0              10.0                15  True    0.0  ...   \n",
       "1            5000.0              7662  True    0.0  ...   \n",
       "2              50.0                58  True    0.0  ...   \n",
       "3              10.0                19  True    0.0  ...   \n",
       "4             100.0               478  True    0.0  ...   \n",
       "\n",
       "                  Developer Website              Developer Email  \\\n",
       "0       https://beniyizibyose.tk/#/       jean21101999@gmail.com   \n",
       "1   https://webserveis.netlify.app/         webserveis@gmail.com   \n",
       "2                               NaN          vnacrewit@gmail.com   \n",
       "3  http://www.climatesmarttech.com/  climatesmarttech2@gmail.com   \n",
       "4       http://www.horodyski.com.pl    rmilekhorodyski@gmail.com   \n",
       "\n",
       "       Released  Last Updated Content Rating  \\\n",
       "0  Feb 26, 2020  Feb 26, 2020       Everyone   \n",
       "1  May 21, 2020  May 06, 2021       Everyone   \n",
       "2   Aug 9, 2019  Aug 19, 2019       Everyone   \n",
       "3  Sep 10, 2018  Oct 13, 2018       Everyone   \n",
       "4  Feb 21, 2020  Nov 12, 2018       Everyone   \n",
       "\n",
       "                                      Privacy Policy Ad Supported  \\\n",
       "0                 https://beniyizibyose.tk/projects/        False   \n",
       "1  https://dev4phones.wordpress.com/licencia-de-uso/         True   \n",
       "2  https://www.vietnamairlines.com/vn/en/terms-an...        False   \n",
       "3                                                NaN         True   \n",
       "4                        http://www.horodyski.com.pl        False   \n",
       "\n",
       "  In App Purchases Editors Choice         Scraped Time  \n",
       "0            False          False  2021-06-15 20:19:35  \n",
       "1            False          False  2021-06-15 20:19:35  \n",
       "2            False          False  2021-06-15 20:19:35  \n",
       "3            False          False  2021-06-15 20:19:35  \n",
       "4            False          False  2021-06-15 20:19:35  \n",
       "\n",
       "[5 rows x 24 columns]"
      ]
     },
     "execution_count": 3,
     "metadata": {},
     "output_type": "execute_result"
    }
   ],
   "source": [
    "df = pd.read_csv(data)\n",
    "df.head()"
   ]
  },
  {
   "cell_type": "code",
   "execution_count": 4,
   "id": "17e01754",
   "metadata": {},
   "outputs": [
    {
     "data": {
      "text/html": [
       "<div>\n",
       "<style scoped>\n",
       "    .dataframe tbody tr th:only-of-type {\n",
       "        vertical-align: middle;\n",
       "    }\n",
       "\n",
       "    .dataframe tbody tr th {\n",
       "        vertical-align: top;\n",
       "    }\n",
       "\n",
       "    .dataframe thead th {\n",
       "        text-align: right;\n",
       "    }\n",
       "</style>\n",
       "<table border=\"1\" class=\"dataframe\">\n",
       "  <thead>\n",
       "    <tr style=\"text-align: right;\">\n",
       "      <th></th>\n",
       "      <th>Rating</th>\n",
       "      <th>Rating Count</th>\n",
       "      <th>Minimum Installs</th>\n",
       "      <th>Maximum Installs</th>\n",
       "      <th>Price</th>\n",
       "    </tr>\n",
       "  </thead>\n",
       "  <tbody>\n",
       "    <tr>\n",
       "      <th>count</th>\n",
       "      <td>2.290061e+06</td>\n",
       "      <td>2.290061e+06</td>\n",
       "      <td>2.312837e+06</td>\n",
       "      <td>2.312944e+06</td>\n",
       "      <td>2.312944e+06</td>\n",
       "    </tr>\n",
       "    <tr>\n",
       "      <th>mean</th>\n",
       "      <td>2.203152e+00</td>\n",
       "      <td>2.864839e+03</td>\n",
       "      <td>1.834452e+05</td>\n",
       "      <td>3.202017e+05</td>\n",
       "      <td>1.034992e-01</td>\n",
       "    </tr>\n",
       "    <tr>\n",
       "      <th>std</th>\n",
       "      <td>2.106223e+00</td>\n",
       "      <td>2.121626e+05</td>\n",
       "      <td>1.513144e+07</td>\n",
       "      <td>2.355495e+07</td>\n",
       "      <td>2.633127e+00</td>\n",
       "    </tr>\n",
       "    <tr>\n",
       "      <th>min</th>\n",
       "      <td>0.000000e+00</td>\n",
       "      <td>0.000000e+00</td>\n",
       "      <td>0.000000e+00</td>\n",
       "      <td>0.000000e+00</td>\n",
       "      <td>0.000000e+00</td>\n",
       "    </tr>\n",
       "    <tr>\n",
       "      <th>25%</th>\n",
       "      <td>0.000000e+00</td>\n",
       "      <td>0.000000e+00</td>\n",
       "      <td>5.000000e+01</td>\n",
       "      <td>8.400000e+01</td>\n",
       "      <td>0.000000e+00</td>\n",
       "    </tr>\n",
       "    <tr>\n",
       "      <th>50%</th>\n",
       "      <td>2.900000e+00</td>\n",
       "      <td>6.000000e+00</td>\n",
       "      <td>5.000000e+02</td>\n",
       "      <td>6.950000e+02</td>\n",
       "      <td>0.000000e+00</td>\n",
       "    </tr>\n",
       "    <tr>\n",
       "      <th>75%</th>\n",
       "      <td>4.300000e+00</td>\n",
       "      <td>4.200000e+01</td>\n",
       "      <td>5.000000e+03</td>\n",
       "      <td>7.354000e+03</td>\n",
       "      <td>0.000000e+00</td>\n",
       "    </tr>\n",
       "    <tr>\n",
       "      <th>max</th>\n",
       "      <td>5.000000e+00</td>\n",
       "      <td>1.385576e+08</td>\n",
       "      <td>1.000000e+10</td>\n",
       "      <td>1.205763e+10</td>\n",
       "      <td>4.000000e+02</td>\n",
       "    </tr>\n",
       "  </tbody>\n",
       "</table>\n",
       "</div>"
      ],
      "text/plain": [
       "             Rating  Rating Count  Minimum Installs  Maximum Installs  \\\n",
       "count  2.290061e+06  2.290061e+06      2.312837e+06      2.312944e+06   \n",
       "mean   2.203152e+00  2.864839e+03      1.834452e+05      3.202017e+05   \n",
       "std    2.106223e+00  2.121626e+05      1.513144e+07      2.355495e+07   \n",
       "min    0.000000e+00  0.000000e+00      0.000000e+00      0.000000e+00   \n",
       "25%    0.000000e+00  0.000000e+00      5.000000e+01      8.400000e+01   \n",
       "50%    2.900000e+00  6.000000e+00      5.000000e+02      6.950000e+02   \n",
       "75%    4.300000e+00  4.200000e+01      5.000000e+03      7.354000e+03   \n",
       "max    5.000000e+00  1.385576e+08      1.000000e+10      1.205763e+10   \n",
       "\n",
       "              Price  \n",
       "count  2.312944e+06  \n",
       "mean   1.034992e-01  \n",
       "std    2.633127e+00  \n",
       "min    0.000000e+00  \n",
       "25%    0.000000e+00  \n",
       "50%    0.000000e+00  \n",
       "75%    0.000000e+00  \n",
       "max    4.000000e+02  "
      ]
     },
     "execution_count": 4,
     "metadata": {},
     "output_type": "execute_result"
    }
   ],
   "source": [
    "df.describe()"
   ]
  },
  {
   "cell_type": "markdown",
   "id": "1637620b",
   "metadata": {},
   "source": [
    "##### Missing values"
   ]
  },
  {
   "cell_type": "code",
   "execution_count": 5,
   "id": "92d53caa",
   "metadata": {},
   "outputs": [
    {
     "data": {
      "text/plain": [
       "Developer Website    760835\n",
       "Privacy Policy       420953\n",
       "Released              71053\n",
       "Rating                22883\n",
       "Rating Count          22883\n",
       "Minimum Android        6530\n",
       "Size                    196\n",
       "Currency                135\n",
       "Installs                107\n",
       "Minimum Installs        107\n",
       "Developer Id             33\n",
       "Developer Email          31\n",
       "App Name                  2\n",
       "App Id                    0\n",
       "Price                     0\n",
       "Free                      0\n",
       "Maximum Installs          0\n",
       "Last Updated              0\n",
       "Content Rating            0\n",
       "Category                  0\n",
       "Ad Supported              0\n",
       "In App Purchases          0\n",
       "Editors Choice            0\n",
       "Scraped Time              0\n",
       "dtype: int64"
      ]
     },
     "execution_count": 5,
     "metadata": {},
     "output_type": "execute_result"
    }
   ],
   "source": [
    "df.isnull().sum().sort_values(ascending = False)"
   ]
  },
  {
   "cell_type": "code",
   "execution_count": 6,
   "id": "76c38812",
   "metadata": {},
   "outputs": [],
   "source": [
    " pd.set_option('display.max_columns', None)"
   ]
  },
  {
   "cell_type": "markdown",
   "id": "d23d423c",
   "metadata": {},
   "source": [
    "##### Missing values visualization"
   ]
  },
  {
   "cell_type": "code",
   "execution_count": 7,
   "id": "60df2659",
   "metadata": {},
   "outputs": [
    {
     "data": {
      "text/plain": [
       "Text(0.5, 1.0, 'Missing null values')"
      ]
     },
     "execution_count": 7,
     "metadata": {},
     "output_type": "execute_result"
    },
    {
     "data": {
      "image/png": "[encoded data removed]",
      "text/plain": [
       "<Figure size 1440x432 with 1 Axes>"
      ]
     },
     "metadata": {
      "needs_background": "light"
     },
     "output_type": "display_data"
    }
   ],
   "source": [
    "import matplotlib\n",
    "matplotlib.rcParams['figure.figsize'] = (20,6)\n",
    "sns.heatmap(df.isnull(),yticklabels = False, cbar = False , cmap = 'viridis')\n",
    "plt.title(\"Missing null values\")"
   ]
  },
  {
   "cell_type": "code",
   "execution_count": 8,
   "id": "5797333e",
   "metadata": {},
   "outputs": [
    {
     "data": {
      "text/plain": [
       "Developer Website    3.289466e-01\n",
       "Privacy Policy       1.819988e-01\n",
       "Released             3.071972e-02\n",
       "Rating               9.893452e-03\n",
       "Rating Count         9.893452e-03\n",
       "Minimum Android      2.823242e-03\n",
       "Size                 8.474049e-05\n",
       "Currency             5.836717e-05\n",
       "Installs             4.626139e-05\n",
       "Minimum Installs     4.626139e-05\n",
       "Developer Id         1.426753e-05\n",
       "Developer Email      1.340283e-05\n",
       "App Name             8.646988e-07\n",
       "App Id               0.000000e+00\n",
       "Price                0.000000e+00\n",
       "Free                 0.000000e+00\n",
       "Maximum Installs     0.000000e+00\n",
       "Last Updated         0.000000e+00\n",
       "Content Rating       0.000000e+00\n",
       "Category             0.000000e+00\n",
       "Ad Supported         0.000000e+00\n",
       "In App Purchases     0.000000e+00\n",
       "Editors Choice       0.000000e+00\n",
       "Scraped Time         0.000000e+00\n",
       "dtype: float64"
      ]
     },
     "execution_count": 8,
     "metadata": {},
     "output_type": "execute_result"
    }
   ],
   "source": [
    "missing_percentage = df.isnull().sum().sort_values(ascending = False)/len(df)\n",
    "missing_percentage"
   ]
  },
  {
   "cell_type": "code",
   "execution_count": 9,
   "id": "dc8395b9",
   "metadata": {},
   "outputs": [
    {
     "data": {
      "text/plain": [
       "Text(0.5, 1.0, 'Missig percentage of null values')"
      ]
     },
     "execution_count": 9,
     "metadata": {},
     "output_type": "execute_result"
    },
    {
     "data": {
      "image/png": "[encoded data removed]",
      "text/plain": [
       "<Figure size 1440x432 with 1 Axes>"
      ]
     },
     "metadata": {
      "needs_background": "light"
     },
     "output_type": "display_data"
    }
   ],
   "source": [
    "#Missing plots in percentage\n",
    "missing_percentage = missing_percentage[missing_percentage != 0] # Only the missing data\n",
    "import matplotlib\n",
    "matplotlib.rcParams['figure.figsize'] = (20,6)\n",
    "missing_percentage.plot(kind = 'barh')\n",
    "plt.title(\"Missig percentage of null values\")"
   ]
  },
  {
   "cell_type": "markdown",
   "id": "947c7a12",
   "metadata": {},
   "source": [
    "###### Will be dropping \"Developer Website, Privacy Policy\" entirely and dropping the null values columns\" Size Currency Installs Minimum Installs Developer Id Developer Email\". And will fill null values for columns \"Rating Rating count Minimum Andriod Released\""
   ]
  },
  {
   "cell_type": "code",
   "execution_count": 10,
   "id": "9b76c3b1",
   "metadata": {},
   "outputs": [],
   "source": [
    "df.dropna(subset = ['App Name','Size','Currency','Installs','Minimum Installs','Developer Id','Developer Email'], inplace = True)"
   ]
  },
  {
   "cell_type": "code",
   "execution_count": 11,
   "id": "f7e98317",
   "metadata": {},
   "outputs": [
    {
     "data": {
      "text/plain": [
       "App Name                  0\n",
       "App Id                    0\n",
       "Category                  0\n",
       "Rating                22572\n",
       "Rating Count          22572\n",
       "Installs                  0\n",
       "Minimum Installs          0\n",
       "Maximum Installs          0\n",
       "Free                      0\n",
       "Price                     0\n",
       "Currency                  0\n",
       "Size                      0\n",
       "Minimum Android        6530\n",
       "Developer Id              0\n",
       "Developer Website    760716\n",
       "Developer Email           0\n",
       "Released              70748\n",
       "Last Updated              0\n",
       "Content Rating            0\n",
       "Privacy Policy       420845\n",
       "Ad Supported              0\n",
       "In App Purchases          0\n",
       "Editors Choice            0\n",
       "Scraped Time              0\n",
       "dtype: int64"
      ]
     },
     "execution_count": 11,
     "metadata": {},
     "output_type": "execute_result"
    }
   ],
   "source": [
    "df.isnull().sum()"
   ]
  },
  {
   "cell_type": "markdown",
   "id": "0911b7c8",
   "metadata": {},
   "source": [
    "## Cleaning each row"
   ]
  },
  {
   "cell_type": "markdown",
   "id": "3faca37d",
   "metadata": {},
   "source": [
    "checking any duplicates in the App Name before we start cleaning"
   ]
  },
  {
   "cell_type": "code",
   "execution_count": 12,
   "id": "5ae3b6f8",
   "metadata": {},
   "outputs": [
    {
     "data": {
      "text/plain": [
       "True"
      ]
     },
     "execution_count": 12,
     "metadata": {},
     "output_type": "execute_result"
    }
   ],
   "source": [
    "duplicate = df['App Name'].duplicated().any()\n",
    "duplicate"
   ]
  },
  {
   "cell_type": "code",
   "execution_count": 13,
   "id": "9ee86d65",
   "metadata": {},
   "outputs": [
    {
     "data": {
      "text/plain": [
       "Tic Tac Toe                     382\n",
       "Calculator                      261\n",
       "Flashlight                      256\n",
       "BMI Calculator                  201\n",
       "Age Calculator                  190\n",
       "                               ... \n",
       "Foodiz Resto                      1\n",
       "Astra OtoReward                   1\n",
       "MedTerm Dictionary                1\n",
       "Urban garden and sowing.          1\n",
       "Biliyor Musun - Sonsuz Yarış      1\n",
       "Name: App Name, Length: 2177593, dtype: int64"
      ]
     },
     "execution_count": 13,
     "metadata": {},
     "output_type": "execute_result"
    }
   ],
   "source": [
    "df['App Name'].value_counts()"
   ]
  },
  {
   "cell_type": "markdown",
   "id": "8bad643c",
   "metadata": {},
   "source": [
    "We can see that App Name column has multiple rows. Let's check out if the data in those rows are identical or not"
   ]
  },
  {
   "cell_type": "code",
   "execution_count": 14,
   "id": "2bc2b26d",
   "metadata": {},
   "outputs": [
    {
     "data": {
      "text/html": [
       "<div>\n",
       "<style scoped>\n",
       "    .dataframe tbody tr th:only-of-type {\n",
       "        vertical-align: middle;\n",
       "    }\n",
       "\n",
       "    .dataframe tbody tr th {\n",
       "        vertical-align: top;\n",
       "    }\n",
       "\n",
       "    .dataframe thead th {\n",
       "        text-align: right;\n",
       "    }\n",
       "</style>\n",
       "<table border=\"1\" class=\"dataframe\">\n",
       "  <thead>\n",
       "    <tr style=\"text-align: right;\">\n",
       "      <th></th>\n",
       "      <th>App Name</th>\n",
       "      <th>App Id</th>\n",
       "      <th>Category</th>\n",
       "      <th>Rating</th>\n",
       "      <th>Rating Count</th>\n",
       "      <th>Installs</th>\n",
       "      <th>Minimum Installs</th>\n",
       "      <th>Maximum Installs</th>\n",
       "      <th>Free</th>\n",
       "      <th>Price</th>\n",
       "      <th>Currency</th>\n",
       "      <th>Size</th>\n",
       "      <th>Minimum Android</th>\n",
       "      <th>Developer Id</th>\n",
       "      <th>Developer Website</th>\n",
       "      <th>Developer Email</th>\n",
       "      <th>Released</th>\n",
       "      <th>Last Updated</th>\n",
       "      <th>Content Rating</th>\n",
       "      <th>Privacy Policy</th>\n",
       "      <th>Ad Supported</th>\n",
       "      <th>In App Purchases</th>\n",
       "      <th>Editors Choice</th>\n",
       "      <th>Scraped Time</th>\n",
       "    </tr>\n",
       "  </thead>\n",
       "  <tbody>\n",
       "    <tr>\n",
       "      <th>3918</th>\n",
       "      <td>Tic Tac Toe</td>\n",
       "      <td>com.dev.atte.tic_tac_toe</td>\n",
       "      <td>Puzzle</td>\n",
       "      <td>0.0</td>\n",
       "      <td>0.0</td>\n",
       "      <td>10+</td>\n",
       "      <td>10.0</td>\n",
       "      <td>30</td>\n",
       "      <td>True</td>\n",
       "      <td>0.0</td>\n",
       "      <td>USD</td>\n",
       "      <td>3.4M</td>\n",
       "      <td>4.0 and up</td>\n",
       "      <td>ATTE AKA FRANCOIS</td>\n",
       "      <td>https://ne2ad32ee.app-ads-txt.com</td>\n",
       "      <td>dev.atte.francois@gmail.com</td>\n",
       "      <td>May 18, 2018</td>\n",
       "      <td>May 18, 2018</td>\n",
       "      <td>Everyone</td>\n",
       "      <td>NaN</td>\n",
       "      <td>True</td>\n",
       "      <td>False</td>\n",
       "      <td>False</td>\n",
       "      <td>2021-06-15 20:23:22</td>\n",
       "    </tr>\n",
       "    <tr>\n",
       "      <th>13758</th>\n",
       "      <td>Tic Tac Toe</td>\n",
       "      <td>com.md.tictactoe</td>\n",
       "      <td>Board</td>\n",
       "      <td>0.0</td>\n",
       "      <td>0.0</td>\n",
       "      <td>10+</td>\n",
       "      <td>10.0</td>\n",
       "      <td>31</td>\n",
       "      <td>True</td>\n",
       "      <td>0.0</td>\n",
       "      <td>USD</td>\n",
       "      <td>34M</td>\n",
       "      <td>4.3 and up</td>\n",
       "      <td>Smart Digital Tools</td>\n",
       "      <td>NaN</td>\n",
       "      <td>msms.zaman@gmail.com</td>\n",
       "      <td>Nov 2, 2020</td>\n",
       "      <td>Nov 18, 2020</td>\n",
       "      <td>Everyone</td>\n",
       "      <td>https://smartdailytools.blogspot.com/2020/09/p...</td>\n",
       "      <td>True</td>\n",
       "      <td>False</td>\n",
       "      <td>False</td>\n",
       "      <td>2021-06-15 20:32:58</td>\n",
       "    </tr>\n",
       "    <tr>\n",
       "      <th>25351</th>\n",
       "      <td>Tic Tac Toe</td>\n",
       "      <td>com.sthirumuru.tictactoenew</td>\n",
       "      <td>Board</td>\n",
       "      <td>4.2</td>\n",
       "      <td>11.0</td>\n",
       "      <td>5,000+</td>\n",
       "      <td>5000.0</td>\n",
       "      <td>6379</td>\n",
       "      <td>True</td>\n",
       "      <td>0.0</td>\n",
       "      <td>USD</td>\n",
       "      <td>7.4M</td>\n",
       "      <td>7.0 and up</td>\n",
       "      <td>Sundeep Reddy Thirumuru</td>\n",
       "      <td>NaN</td>\n",
       "      <td>sundeep.thirumuru@gmail.com</td>\n",
       "      <td>Apr 13, 2021</td>\n",
       "      <td>Jun 03, 2021</td>\n",
       "      <td>Everyone</td>\n",
       "      <td>NaN</td>\n",
       "      <td>True</td>\n",
       "      <td>False</td>\n",
       "      <td>False</td>\n",
       "      <td>2021-06-15 20:44:27</td>\n",
       "    </tr>\n",
       "    <tr>\n",
       "      <th>28142</th>\n",
       "      <td>Tic Tac Toe</td>\n",
       "      <td>com.fsk00x.TicTacToe</td>\n",
       "      <td>Board</td>\n",
       "      <td>0.0</td>\n",
       "      <td>0.0</td>\n",
       "      <td>500+</td>\n",
       "      <td>500.0</td>\n",
       "      <td>922</td>\n",
       "      <td>True</td>\n",
       "      <td>0.0</td>\n",
       "      <td>USD</td>\n",
       "      <td>8.6M</td>\n",
       "      <td>4.1 and up</td>\n",
       "      <td>SteadFast Games</td>\n",
       "      <td>NaN</td>\n",
       "      <td>devmethyl@outlook.com</td>\n",
       "      <td>Feb 13, 2020</td>\n",
       "      <td>Feb 13, 2020</td>\n",
       "      <td>Everyone</td>\n",
       "      <td>NaN</td>\n",
       "      <td>True</td>\n",
       "      <td>False</td>\n",
       "      <td>False</td>\n",
       "      <td>2021-06-15 20:47:17</td>\n",
       "    </tr>\n",
       "    <tr>\n",
       "      <th>30962</th>\n",
       "      <td>Tic Tac Toe</td>\n",
       "      <td>net.snatchdreams.tictactoe</td>\n",
       "      <td>Puzzle</td>\n",
       "      <td>0.0</td>\n",
       "      <td>0.0</td>\n",
       "      <td>10+</td>\n",
       "      <td>10.0</td>\n",
       "      <td>38</td>\n",
       "      <td>True</td>\n",
       "      <td>0.0</td>\n",
       "      <td>USD</td>\n",
       "      <td>927k</td>\n",
       "      <td>4.0 and up</td>\n",
       "      <td>SnatchDreams</td>\n",
       "      <td>https://www.snatchdreams.net</td>\n",
       "      <td>snatchdreams@gmail.com</td>\n",
       "      <td>Jul 16, 2017</td>\n",
       "      <td>Oct 16, 2019</td>\n",
       "      <td>Everyone</td>\n",
       "      <td>https://www.snatchdreams.net/privacy/tic-tac-toe/</td>\n",
       "      <td>True</td>\n",
       "      <td>False</td>\n",
       "      <td>False</td>\n",
       "      <td>2021-06-15 20:50:12</td>\n",
       "    </tr>\n",
       "    <tr>\n",
       "      <th>...</th>\n",
       "      <td>...</td>\n",
       "      <td>...</td>\n",
       "      <td>...</td>\n",
       "      <td>...</td>\n",
       "      <td>...</td>\n",
       "      <td>...</td>\n",
       "      <td>...</td>\n",
       "      <td>...</td>\n",
       "      <td>...</td>\n",
       "      <td>...</td>\n",
       "      <td>...</td>\n",
       "      <td>...</td>\n",
       "      <td>...</td>\n",
       "      <td>...</td>\n",
       "      <td>...</td>\n",
       "      <td>...</td>\n",
       "      <td>...</td>\n",
       "      <td>...</td>\n",
       "      <td>...</td>\n",
       "      <td>...</td>\n",
       "      <td>...</td>\n",
       "      <td>...</td>\n",
       "      <td>...</td>\n",
       "      <td>...</td>\n",
       "    </tr>\n",
       "    <tr>\n",
       "      <th>2272773</th>\n",
       "      <td>Tic Tac Toe</td>\n",
       "      <td>com.tictactoe.MobileAppsPro</td>\n",
       "      <td>Board</td>\n",
       "      <td>3.8</td>\n",
       "      <td>9269.0</td>\n",
       "      <td>500,000+</td>\n",
       "      <td>500000.0</td>\n",
       "      <td>800662</td>\n",
       "      <td>True</td>\n",
       "      <td>0.0</td>\n",
       "      <td>USD</td>\n",
       "      <td>2.3M</td>\n",
       "      <td>2.3 and up</td>\n",
       "      <td>Mobile Apps Pro</td>\n",
       "      <td>NaN</td>\n",
       "      <td>smartyka@gmail.com</td>\n",
       "      <td>Jan 9, 2015</td>\n",
       "      <td>May 20, 2015</td>\n",
       "      <td>Everyone</td>\n",
       "      <td>http://mobileappspro.yolasite.com</td>\n",
       "      <td>True</td>\n",
       "      <td>False</td>\n",
       "      <td>False</td>\n",
       "      <td>2021-06-16 12:23:56</td>\n",
       "    </tr>\n",
       "    <tr>\n",
       "      <th>2281376</th>\n",
       "      <td>Tic Tac Toe</td>\n",
       "      <td>com.erjainam.tictactoe.release</td>\n",
       "      <td>Board</td>\n",
       "      <td>0.0</td>\n",
       "      <td>0.0</td>\n",
       "      <td>50+</td>\n",
       "      <td>50.0</td>\n",
       "      <td>50</td>\n",
       "      <td>True</td>\n",
       "      <td>0.0</td>\n",
       "      <td>USD</td>\n",
       "      <td>3.5M</td>\n",
       "      <td>5.0 and up</td>\n",
       "      <td>Jainam Jhaveri</td>\n",
       "      <td>https://erjainam.com</td>\n",
       "      <td>engineerjainam@gmail.com</td>\n",
       "      <td>Sep 2, 2018</td>\n",
       "      <td>Sep 02, 2018</td>\n",
       "      <td>Everyone</td>\n",
       "      <td>https://docs.google.com/document/d/1Tyi5D3VxZu...</td>\n",
       "      <td>True</td>\n",
       "      <td>False</td>\n",
       "      <td>False</td>\n",
       "      <td>2021-06-16 12:31:30</td>\n",
       "    </tr>\n",
       "    <tr>\n",
       "      <th>2282023</th>\n",
       "      <td>Tic Tac Toe</td>\n",
       "      <td>com.swapworld.tic_tac_toe</td>\n",
       "      <td>Board</td>\n",
       "      <td>4.7</td>\n",
       "      <td>7.0</td>\n",
       "      <td>10+</td>\n",
       "      <td>10.0</td>\n",
       "      <td>34</td>\n",
       "      <td>True</td>\n",
       "      <td>0.0</td>\n",
       "      <td>USD</td>\n",
       "      <td>5.3M</td>\n",
       "      <td>4.1 and up</td>\n",
       "      <td>Cybertron's Hogwarts</td>\n",
       "      <td>http://prudhvikchirunomula.pythonanywhere.com/</td>\n",
       "      <td>prudhvik.1996@gmail.com</td>\n",
       "      <td>Sep 4, 2019</td>\n",
       "      <td>Sep 17, 2019</td>\n",
       "      <td>Everyone</td>\n",
       "      <td>NaN</td>\n",
       "      <td>False</td>\n",
       "      <td>False</td>\n",
       "      <td>False</td>\n",
       "      <td>2021-06-16 12:32:05</td>\n",
       "    </tr>\n",
       "    <tr>\n",
       "      <th>2299121</th>\n",
       "      <td>Tic Tac Toe</td>\n",
       "      <td>com.infuse.tictactoe</td>\n",
       "      <td>Board</td>\n",
       "      <td>4.8</td>\n",
       "      <td>20.0</td>\n",
       "      <td>100+</td>\n",
       "      <td>100.0</td>\n",
       "      <td>462</td>\n",
       "      <td>True</td>\n",
       "      <td>0.0</td>\n",
       "      <td>USD</td>\n",
       "      <td>2.1M</td>\n",
       "      <td>2.2 and up</td>\n",
       "      <td>Infuse Apps</td>\n",
       "      <td>http://www.infuseapps.com</td>\n",
       "      <td>infuseandroidapps@gmail.com</td>\n",
       "      <td>Jan 18, 2015</td>\n",
       "      <td>Jan 18, 2015</td>\n",
       "      <td>Everyone</td>\n",
       "      <td>NaN</td>\n",
       "      <td>True</td>\n",
       "      <td>False</td>\n",
       "      <td>False</td>\n",
       "      <td>2021-06-16 12:47:11</td>\n",
       "    </tr>\n",
       "    <tr>\n",
       "      <th>2310375</th>\n",
       "      <td>Tic Tac Toe</td>\n",
       "      <td>com.justmailtoavi.avinashk.threet</td>\n",
       "      <td>Puzzle</td>\n",
       "      <td>4.7</td>\n",
       "      <td>10.0</td>\n",
       "      <td>100+</td>\n",
       "      <td>100.0</td>\n",
       "      <td>173</td>\n",
       "      <td>True</td>\n",
       "      <td>0.0</td>\n",
       "      <td>USD</td>\n",
       "      <td>1.7M</td>\n",
       "      <td>4.4 and up</td>\n",
       "      <td>RentMyTent</td>\n",
       "      <td>NaN</td>\n",
       "      <td>justmailtoavi@gmail.com</td>\n",
       "      <td>Mar 30, 2016</td>\n",
       "      <td>Apr 01, 2016</td>\n",
       "      <td>Everyone</td>\n",
       "      <td>NaN</td>\n",
       "      <td>False</td>\n",
       "      <td>False</td>\n",
       "      <td>False</td>\n",
       "      <td>2021-06-16 12:57:05</td>\n",
       "    </tr>\n",
       "  </tbody>\n",
       "</table>\n",
       "<p>382 rows × 24 columns</p>\n",
       "</div>"
      ],
      "text/plain": [
       "            App Name                             App Id Category  Rating  \\\n",
       "3918     Tic Tac Toe           com.dev.atte.tic_tac_toe   Puzzle     0.0   \n",
       "13758    Tic Tac Toe                   com.md.tictactoe    Board     0.0   \n",
       "25351    Tic Tac Toe        com.sthirumuru.tictactoenew    Board     4.2   \n",
       "28142    Tic Tac Toe               com.fsk00x.TicTacToe    Board     0.0   \n",
       "30962    Tic Tac Toe         net.snatchdreams.tictactoe   Puzzle     0.0   \n",
       "...              ...                                ...      ...     ...   \n",
       "2272773  Tic Tac Toe        com.tictactoe.MobileAppsPro    Board     3.8   \n",
       "2281376  Tic Tac Toe     com.erjainam.tictactoe.release    Board     0.0   \n",
       "2282023  Tic Tac Toe          com.swapworld.tic_tac_toe    Board     4.7   \n",
       "2299121  Tic Tac Toe               com.infuse.tictactoe    Board     4.8   \n",
       "2310375  Tic Tac Toe  com.justmailtoavi.avinashk.threet   Puzzle     4.7   \n",
       "\n",
       "         Rating Count  Installs  Minimum Installs  Maximum Installs  Free  \\\n",
       "3918              0.0       10+              10.0                30  True   \n",
       "13758             0.0       10+              10.0                31  True   \n",
       "25351            11.0    5,000+            5000.0              6379  True   \n",
       "28142             0.0      500+             500.0               922  True   \n",
       "30962             0.0       10+              10.0                38  True   \n",
       "...               ...       ...               ...               ...   ...   \n",
       "2272773        9269.0  500,000+          500000.0            800662  True   \n",
       "2281376           0.0       50+              50.0                50  True   \n",
       "2282023           7.0       10+              10.0                34  True   \n",
       "2299121          20.0      100+             100.0               462  True   \n",
       "2310375          10.0      100+             100.0               173  True   \n",
       "\n",
       "         Price Currency  Size Minimum Android             Developer Id  \\\n",
       "3918       0.0      USD  3.4M      4.0 and up        ATTE AKA FRANCOIS   \n",
       "13758      0.0      USD   34M      4.3 and up      Smart Digital Tools   \n",
       "25351      0.0      USD  7.4M      7.0 and up  Sundeep Reddy Thirumuru   \n",
       "28142      0.0      USD  8.6M      4.1 and up          SteadFast Games   \n",
       "30962      0.0      USD  927k      4.0 and up             SnatchDreams   \n",
       "...        ...      ...   ...             ...                      ...   \n",
       "2272773    0.0      USD  2.3M      2.3 and up          Mobile Apps Pro   \n",
       "2281376    0.0      USD  3.5M      5.0 and up           Jainam Jhaveri   \n",
       "2282023    0.0      USD  5.3M      4.1 and up     Cybertron's Hogwarts   \n",
       "2299121    0.0      USD  2.1M      2.2 and up              Infuse Apps   \n",
       "2310375    0.0      USD  1.7M      4.4 and up               RentMyTent   \n",
       "\n",
       "                                      Developer Website  \\\n",
       "3918                  https://ne2ad32ee.app-ads-txt.com   \n",
       "13758                                               NaN   \n",
       "25351                                               NaN   \n",
       "28142                                               NaN   \n",
       "30962                      https://www.snatchdreams.net   \n",
       "...                                                 ...   \n",
       "2272773                                             NaN   \n",
       "2281376                            https://erjainam.com   \n",
       "2282023  http://prudhvikchirunomula.pythonanywhere.com/   \n",
       "2299121                       http://www.infuseapps.com   \n",
       "2310375                                             NaN   \n",
       "\n",
       "                     Developer Email      Released  Last Updated  \\\n",
       "3918     dev.atte.francois@gmail.com  May 18, 2018  May 18, 2018   \n",
       "13758           msms.zaman@gmail.com   Nov 2, 2020  Nov 18, 2020   \n",
       "25351    sundeep.thirumuru@gmail.com  Apr 13, 2021  Jun 03, 2021   \n",
       "28142          devmethyl@outlook.com  Feb 13, 2020  Feb 13, 2020   \n",
       "30962         snatchdreams@gmail.com  Jul 16, 2017  Oct 16, 2019   \n",
       "...                              ...           ...           ...   \n",
       "2272773           smartyka@gmail.com   Jan 9, 2015  May 20, 2015   \n",
       "2281376     engineerjainam@gmail.com   Sep 2, 2018  Sep 02, 2018   \n",
       "2282023      prudhvik.1996@gmail.com   Sep 4, 2019  Sep 17, 2019   \n",
       "2299121  infuseandroidapps@gmail.com  Jan 18, 2015  Jan 18, 2015   \n",
       "2310375      justmailtoavi@gmail.com  Mar 30, 2016  Apr 01, 2016   \n",
       "\n",
       "        Content Rating                                     Privacy Policy  \\\n",
       "3918          Everyone                                                NaN   \n",
       "13758         Everyone  https://smartdailytools.blogspot.com/2020/09/p...   \n",
       "25351         Everyone                                                NaN   \n",
       "28142         Everyone                                                NaN   \n",
       "30962         Everyone  https://www.snatchdreams.net/privacy/tic-tac-toe/   \n",
       "...                ...                                                ...   \n",
       "2272773       Everyone                  http://mobileappspro.yolasite.com   \n",
       "2281376       Everyone  https://docs.google.com/document/d/1Tyi5D3VxZu...   \n",
       "2282023       Everyone                                                NaN   \n",
       "2299121       Everyone                                                NaN   \n",
       "2310375       Everyone                                                NaN   \n",
       "\n",
       "         Ad Supported  In App Purchases  Editors Choice         Scraped Time  \n",
       "3918             True             False           False  2021-06-15 20:23:22  \n",
       "13758            True             False           False  2021-06-15 20:32:58  \n",
       "25351            True             False           False  2021-06-15 20:44:27  \n",
       "28142            True             False           False  2021-06-15 20:47:17  \n",
       "30962            True             False           False  2021-06-15 20:50:12  \n",
       "...               ...               ...             ...                  ...  \n",
       "2272773          True             False           False  2021-06-16 12:23:56  \n",
       "2281376          True             False           False  2021-06-16 12:31:30  \n",
       "2282023         False             False           False  2021-06-16 12:32:05  \n",
       "2299121          True             False           False  2021-06-16 12:47:11  \n",
       "2310375         False             False           False  2021-06-16 12:57:05  \n",
       "\n",
       "[382 rows x 24 columns]"
      ]
     },
     "execution_count": 14,
     "metadata": {},
     "output_type": "execute_result"
    }
   ],
   "source": [
    "df[df['App Name'] == 'Tic Tac Toe']"
   ]
  },
  {
   "cell_type": "code",
   "execution_count": 15,
   "id": "2b37a24d",
   "metadata": {},
   "outputs": [
    {
     "data": {
      "text/plain": [
       "False"
      ]
     },
     "execution_count": 15,
     "metadata": {},
     "output_type": "execute_result"
    }
   ],
   "source": [
    "df['App Id'].duplicated().any()"
   ]
  },
  {
   "cell_type": "code",
   "execution_count": 16,
   "id": "a4fdfe4e",
   "metadata": {},
   "outputs": [
    {
     "data": {
      "text/plain": [
       "com.ishakwe.gakondo                    1\n",
       "com.avai.amp.dewtour                   1\n",
       "com.myhomebuy                          1\n",
       "com.apocalipseescatologia.app          1\n",
       "com.puzzlegame.wordconnect             1\n",
       "                                      ..\n",
       "id.compro.virtualcompetition           1\n",
       "com.fitivity.basketball_point_guard    1\n",
       "smartgr.gardenshower.ideas             1\n",
       "com.euroland.mobiletools.ae_nbad       1\n",
       "com.yyazilim.biliyormusun              1\n",
       "Name: App Id, Length: 2312548, dtype: int64"
      ]
     },
     "execution_count": 16,
     "metadata": {},
     "output_type": "execute_result"
    }
   ],
   "source": [
    "df['App Id'].value_counts()"
   ]
  },
  {
   "cell_type": "markdown",
   "id": "bb023848",
   "metadata": {},
   "source": [
    "we have the Apps with the same names but with unique App IDs so the Apps differed based on the App IDs"
   ]
  },
  {
   "cell_type": "markdown",
   "id": "db9209f0",
   "metadata": {},
   "source": [
    "## Exploring the numerical columns"
   ]
  },
  {
   "cell_type": "code",
   "execution_count": 17,
   "id": "8720554b",
   "metadata": {},
   "outputs": [
    {
     "data": {
      "text/plain": [
       "array(['10+', '5,000+', '50+', '100+', '1,000+', '500+', '50,000+',\n",
       "       '10,000+', '1+', '500,000+', '100,000+', '5+', '10,000,000+',\n",
       "       '1,000,000+', '5,000,000+', '0+', '100,000,000+', '50,000,000+',\n",
       "       '1,000,000,000+', '500,000,000+', '5,000,000,000+',\n",
       "       '10,000,000,000+'], dtype=object)"
      ]
     },
     "execution_count": 17,
     "metadata": {},
     "output_type": "execute_result"
    }
   ],
   "source": [
    "df['Installs'].unique()"
   ]
  },
  {
   "cell_type": "code",
   "execution_count": 18,
   "id": "bef246af",
   "metadata": {},
   "outputs": [
    {
     "name": "stdout",
     "output_type": "stream",
     "text": [
      "<class 'pandas.core.frame.DataFrame'>\n",
      "Int64Index: 2312548 entries, 0 to 2312943\n",
      "Data columns (total 24 columns):\n",
      " #   Column             Dtype  \n",
      "---  ------             -----  \n",
      " 0   App Name           object \n",
      " 1   App Id             object \n",
      " 2   Category           object \n",
      " 3   Rating             float64\n",
      " 4   Rating Count       float64\n",
      " 5   Installs           object \n",
      " 6   Minimum Installs   float64\n",
      " 7   Maximum Installs   int64  \n",
      " 8   Free               bool   \n",
      " 9   Price              float64\n",
      " 10  Currency           object \n",
      " 11  Size               object \n",
      " 12  Minimum Android    object \n",
      " 13  Developer Id       object \n",
      " 14  Developer Website  object \n",
      " 15  Developer Email    object \n",
      " 16  Released           object \n",
      " 17  Last Updated       object \n",
      " 18  Content Rating     object \n",
      " 19  Privacy Policy     object \n",
      " 20  Ad Supported       bool   \n",
      " 21  In App Purchases   bool   \n",
      " 22  Editors Choice     bool   \n",
      " 23  Scraped Time       object \n",
      "dtypes: bool(4), float64(4), int64(1), object(15)\n",
      "memory usage: 379.3+ MB\n"
     ]
    }
   ],
   "source": [
    "df.info()"
   ]
  },
  {
   "cell_type": "markdown",
   "id": "520e732f",
   "metadata": {},
   "source": [
    "‘ Installs ’ feature, this feature has the information about how many installations has done for each Application in Google play store dataset.\n",
    "Observing the data of “Installs” feature, it is in object type. We need to convert it into integer type. Because the number of installations should be a integer."
   ]
  },
  {
   "cell_type": "code",
   "execution_count": 19,
   "id": "ba29f906",
   "metadata": {},
   "outputs": [],
   "source": [
    "df['Installs'] = df['Installs'].str.split('+').str[0] # reomoves the + symbol"
   ]
  },
  {
   "cell_type": "code",
   "execution_count": 20,
   "id": "5f389cf0",
   "metadata": {},
   "outputs": [
    {
     "data": {
      "text/plain": [
       "array(['10', '5,000', '50', '100', '1,000', '500', '50,000', '10,000',\n",
       "       '1', '500,000', '100,000', '5', '10,000,000', '1,000,000',\n",
       "       '5,000,000', '0', '100,000,000', '50,000,000', '1,000,000,000',\n",
       "       '500,000,000', '5,000,000,000', '10,000,000,000'], dtype=object)"
      ]
     },
     "execution_count": 20,
     "metadata": {},
     "output_type": "execute_result"
    }
   ],
   "source": [
    "df['Installs'].unique()"
   ]
  },
  {
   "cell_type": "code",
   "execution_count": 21,
   "id": "448f282c",
   "metadata": {},
   "outputs": [],
   "source": [
    "df['Installs'].replace(',','', regex=True, inplace=True)  #replace the commas ',' in the install column"
   ]
  },
  {
   "cell_type": "code",
   "execution_count": 22,
   "id": "65e951e6",
   "metadata": {},
   "outputs": [
    {
     "data": {
      "text/plain": [
       "array(['10', '5000', '50', '100', '1000', '500', '50000', '10000', '1',\n",
       "       '500000', '100000', '5', '10000000', '1000000', '5000000', '0',\n",
       "       '100000000', '50000000', '1000000000', '500000000', '5000000000',\n",
       "       '10000000000'], dtype=object)"
      ]
     },
     "execution_count": 22,
     "metadata": {},
     "output_type": "execute_result"
    }
   ],
   "source": [
    "df['Installs'].unique()"
   ]
  },
  {
   "cell_type": "code",
   "execution_count": 23,
   "id": "cc1db55b",
   "metadata": {},
   "outputs": [],
   "source": [
    "df['Installs'] = df['Installs'].astype(dtype=np.int64)  # converting it to the int type"
   ]
  },
  {
   "cell_type": "code",
   "execution_count": 24,
   "id": "c29bf3b3",
   "metadata": {},
   "outputs": [
    {
     "data": {
      "text/plain": [
       "array([         10,        5000,          50,         100,        1000,\n",
       "               500,       50000,       10000,           1,      500000,\n",
       "            100000,           5,    10000000,     1000000,     5000000,\n",
       "                 0,   100000000,    50000000,  1000000000,   500000000,\n",
       "        5000000000, 10000000000], dtype=int64)"
      ]
     },
     "execution_count": 24,
     "metadata": {},
     "output_type": "execute_result"
    }
   ],
   "source": [
    "df['Installs'].unique()"
   ]
  },
  {
   "cell_type": "code",
   "execution_count": 25,
   "id": "704b5fcc",
   "metadata": {},
   "outputs": [
    {
     "data": {
      "text/plain": [
       "array(['USD', 'XXX', 'CAD', 'EUR', 'INR', 'VND', 'GBP', 'BRL', 'KRW',\n",
       "       'TRY', 'RUB', 'SGD', 'AUD', 'PKR', 'ZAR'], dtype=object)"
      ]
     },
     "execution_count": 25,
     "metadata": {},
     "output_type": "execute_result"
    }
   ],
   "source": [
    "df['Currency'].unique()"
   ]
  },
  {
   "cell_type": "code",
   "execution_count": 26,
   "id": "ba51a3bc",
   "metadata": {},
   "outputs": [
    {
     "data": {
      "text/plain": [
       "array(['10M', '2.9M', '3.7M', ..., '405M', '3.2k', '512M'], dtype=object)"
      ]
     },
     "execution_count": 26,
     "metadata": {},
     "output_type": "execute_result"
    }
   ],
   "source": [
    "df['Size'].unique()"
   ]
  },
  {
   "cell_type": "code",
   "execution_count": 27,
   "id": "95ea4b5b",
   "metadata": {},
   "outputs": [
    {
     "data": {
      "text/plain": [
       "array(['10M', '2.9M', '3.7M', ..., '405M', '3.2k', '512M'], dtype=object)"
      ]
     },
     "execution_count": 27,
     "metadata": {},
     "output_type": "execute_result"
    }
   ],
   "source": [
    "df['Size'].unique()"
   ]
  },
  {
   "cell_type": "markdown",
   "id": "dc090581",
   "metadata": {},
   "source": [
    "##### The Size of data can be in GB, MB and KB let's convert the data into the size in MB"
   ]
  },
  {
   "cell_type": "code",
   "execution_count": 28,
   "id": "513bef4e",
   "metadata": {},
   "outputs": [],
   "source": [
    "df['Size'] = df['Size'].apply(lambda x: str(x).replace('M', '') if 'M' in str(x) else x)"
   ]
  },
  {
   "cell_type": "code",
   "execution_count": 29,
   "id": "66f0fd3d",
   "metadata": {},
   "outputs": [],
   "source": [
    "#df['Size'] = df['Size'].apply(lambda x: float(str(x).replace('k', '')) / 1000 if 'k' in str(x) else x)"
   ]
  },
  {
   "cell_type": "code",
   "execution_count": 30,
   "id": "f62972a2",
   "metadata": {},
   "outputs": [],
   "source": [
    "df['Size'] = df['Size'].apply(lambda x: str(x).replace(',', '.') if ',' in str(x) else x)"
   ]
  },
  {
   "cell_type": "code",
   "execution_count": 31,
   "id": "0693dcda",
   "metadata": {},
   "outputs": [],
   "source": [
    "df['Size'] = df['Size'].apply(lambda x: float(str(x).replace('k', '')) / 1000 if 'k' in str(x) else x)"
   ]
  },
  {
   "cell_type": "code",
   "execution_count": 32,
   "id": "78da3cab",
   "metadata": {},
   "outputs": [],
   "source": [
    "#df['Size'] = df['Size'].apply(lambda x: float(x))"
   ]
  },
  {
   "cell_type": "markdown",
   "id": "90448271",
   "metadata": {},
   "source": [
    "we get an another missmatch value in the data set which is 'Varies with device' it means the size of the App may vary with the device---> but here I am assuming it as 0"
   ]
  },
  {
   "cell_type": "code",
   "execution_count": 33,
   "id": "482437af",
   "metadata": {},
   "outputs": [],
   "source": [
    "df['Size'] = df['Size'].apply(lambda x: str(x).replace('Varies with device', '0') if 'Varies with device' in str(x) else x)"
   ]
  },
  {
   "cell_type": "code",
   "execution_count": 34,
   "id": "f10c8c20",
   "metadata": {},
   "outputs": [],
   "source": [
    "df['Size'] = df['Size'].apply(lambda x: float(str(x).replace('G', '')) * 1000 if 'G' in str(x) else x)"
   ]
  },
  {
   "cell_type": "code",
   "execution_count": 35,
   "id": "d3212efd",
   "metadata": {},
   "outputs": [],
   "source": [
    "df['Size'] = df['Size'].apply(lambda x: float(x))"
   ]
  },
  {
   "cell_type": "code",
   "execution_count": 36,
   "id": "047b1cf0",
   "metadata": {},
   "outputs": [
    {
     "data": {
      "text/plain": [
       "dtype('float64')"
      ]
     },
     "execution_count": 36,
     "metadata": {},
     "output_type": "execute_result"
    }
   ],
   "source": [
    "df.dtypes['Size']"
   ]
  },
  {
   "cell_type": "code",
   "execution_count": 37,
   "id": "68f22e44",
   "metadata": {},
   "outputs": [],
   "source": [
    "#df['Minimum Android']"
   ]
  },
  {
   "cell_type": "code",
   "execution_count": 38,
   "id": "2fe3f768",
   "metadata": {},
   "outputs": [],
   "source": [
    "#df['Content Rating']"
   ]
  },
  {
   "cell_type": "code",
   "execution_count": 39,
   "id": "347b2706",
   "metadata": {},
   "outputs": [
    {
     "data": {
      "text/plain": [
       "0          True\n",
       "1          True\n",
       "2          True\n",
       "3          True\n",
       "4          True\n",
       "           ... \n",
       "2312939    True\n",
       "2312940    True\n",
       "2312941    True\n",
       "2312942    True\n",
       "2312943    True\n",
       "Name: Free, Length: 2312548, dtype: bool"
      ]
     },
     "execution_count": 39,
     "metadata": {},
     "output_type": "execute_result"
    }
   ],
   "source": [
    "df['Free']"
   ]
  },
  {
   "cell_type": "markdown",
   "id": "6c63b601",
   "metadata": {},
   "source": [
    "The ‘ Free ’ feature has the information about the type of each Application in the Google play store dataset. It shows weather it is Paid or Free for installation. The feature ‘Free’ is bool type, we can Change the bool True or False to Free or Paid. So for further analysis it would be easy for us to use this feature."
   ]
  },
  {
   "cell_type": "code",
   "execution_count": 40,
   "id": "15300bd9",
   "metadata": {},
   "outputs": [],
   "source": [
    "df['Type'] = np.where(df['Free'] == True,'Free','Paid')#creating a column 'Type'\n",
    "df.drop(['Free'],axis=1, inplace= True )  "
   ]
  },
  {
   "cell_type": "code",
   "execution_count": 41,
   "id": "28468e38",
   "metadata": {},
   "outputs": [
    {
     "data": {
      "text/plain": [
       "array(['Free', 'Paid'], dtype=object)"
      ]
     },
     "execution_count": 41,
     "metadata": {},
     "output_type": "execute_result"
    }
   ],
   "source": [
    "df['Type'].unique()"
   ]
  },
  {
   "cell_type": "markdown",
   "id": "9b615ea9",
   "metadata": {},
   "source": [
    "Checking and cleaning the \"content rating\" feature"
   ]
  },
  {
   "cell_type": "code",
   "execution_count": 42,
   "id": "4789d965",
   "metadata": {},
   "outputs": [
    {
     "data": {
      "text/plain": [
       "array(['Everyone', 'Teen', 'Mature 17+', 'Everyone 10+',\n",
       "       'Adults only 18+', 'Unrated'], dtype=object)"
      ]
     },
     "execution_count": 42,
     "metadata": {},
     "output_type": "execute_result"
    }
   ],
   "source": [
    "df['Content Rating'].unique()"
   ]
  },
  {
   "cell_type": "code",
   "execution_count": 43,
   "id": "a74e060f",
   "metadata": {},
   "outputs": [
    {
     "data": {
      "text/plain": [
       "Everyone           2021788\n",
       "Teen                196311\n",
       "Mature 17+           60278\n",
       "Everyone 10+         33881\n",
       "Unrated                154\n",
       "Adults only 18+        136\n",
       "Name: Content Rating, dtype: int64"
      ]
     },
     "execution_count": 43,
     "metadata": {},
     "output_type": "execute_result"
    }
   ],
   "source": [
    "df['Content Rating'].value_counts()"
   ]
  },
  {
   "cell_type": "markdown",
   "id": "dcfae71a",
   "metadata": {},
   "source": [
    "We have too much categories under this feature namely : Everyone, Teen, Mature 17+, Everyone 10+, Unrated, Adults only 18+. We can recategorise the categories... using Adults, Teens and Everyone"
   ]
  },
  {
   "cell_type": "code",
   "execution_count": 44,
   "id": "b0c619ef",
   "metadata": {},
   "outputs": [],
   "source": [
    "df[\"Content Rating\"]=df[\"Content Rating\"].replace(\"Unrated\",\"Everyone\")\n",
    "df[\"Content Rating\"]=df[\"Content Rating\"].replace(\"Everyone 10+\",\"Teen\")\n",
    "df[\"Content Rating\"]=df[\"Content Rating\"].replace(\"Mature 17+\",\"Adults\")\n",
    "df[\"Content Rating\"]=df[\"Content Rating\"].replace(\"Adults only 18+\",\"Adults\")"
   ]
  },
  {
   "cell_type": "code",
   "execution_count": 45,
   "id": "ea6b28c6",
   "metadata": {},
   "outputs": [
    {
     "data": {
      "text/plain": [
       "Everyone    2021942\n",
       "Teen         230192\n",
       "Adults        60414\n",
       "Name: Content Rating, dtype: int64"
      ]
     },
     "execution_count": 45,
     "metadata": {},
     "output_type": "execute_result"
    }
   ],
   "source": [
    "df['Content Rating'].value_counts()"
   ]
  },
  {
   "cell_type": "code",
   "execution_count": 46,
   "id": "e343ebdb",
   "metadata": {},
   "outputs": [
    {
     "name": "stdout",
     "output_type": "stream",
     "text": [
      "<class 'pandas.core.frame.DataFrame'>\n",
      "Int64Index: 2312548 entries, 0 to 2312943\n",
      "Data columns (total 24 columns):\n",
      " #   Column             Dtype  \n",
      "---  ------             -----  \n",
      " 0   App Name           object \n",
      " 1   App Id             object \n",
      " 2   Category           object \n",
      " 3   Rating             float64\n",
      " 4   Rating Count       float64\n",
      " 5   Installs           int64  \n",
      " 6   Minimum Installs   float64\n",
      " 7   Maximum Installs   int64  \n",
      " 8   Price              float64\n",
      " 9   Currency           object \n",
      " 10  Size               float64\n",
      " 11  Minimum Android    object \n",
      " 12  Developer Id       object \n",
      " 13  Developer Website  object \n",
      " 14  Developer Email    object \n",
      " 15  Released           object \n",
      " 16  Last Updated       object \n",
      " 17  Content Rating     object \n",
      " 18  Privacy Policy     object \n",
      " 19  Ad Supported       bool   \n",
      " 20  In App Purchases   bool   \n",
      " 21  Editors Choice     bool   \n",
      " 22  Scraped Time       object \n",
      " 23  Type               object \n",
      "dtypes: bool(3), float64(5), int64(2), object(14)\n",
      "memory usage: 394.8+ MB\n"
     ]
    }
   ],
   "source": [
    "df.info()"
   ]
  },
  {
   "cell_type": "code",
   "execution_count": 47,
   "id": "27cc5170",
   "metadata": {},
   "outputs": [
    {
     "data": {
      "text/plain": [
       "array([0.0000e+00, 6.4000e+01, 5.0000e+00, ..., 8.7553e+04, 7.5960e+04,\n",
       "       7.8351e+04])"
      ]
     },
     "execution_count": 47,
     "metadata": {},
     "output_type": "execute_result"
    }
   ],
   "source": [
    "df['Rating Count'].unique()"
   ]
  },
  {
   "cell_type": "markdown",
   "id": "a162345c",
   "metadata": {},
   "source": [
    "The ‘ Rating Count ’ feature, gives the information about how much rating count each application has"
   ]
  },
  {
   "cell_type": "code",
   "execution_count": 48,
   "id": "23be00c8",
   "metadata": {},
   "outputs": [
    {
     "data": {
      "text/plain": [
       "array([0. , 4.4, 5. , 4.5, 2. , 4.7, 4.9, 3.9, 3.7, 4.2, 3.4, 3.8, 4.6,\n",
       "       4.1, 2.5, 2.3, 2.1, 2.7, 4.3, 3.1, 4.8, 3.3, 4. , 2.4, 3.2, 3.6,\n",
       "       2.6, nan, 1.5, 3.5, 2.9, 1.3, 2.8, 3. , 2.2, 1.8, 1.4, 1.2, 1.9,\n",
       "       1.7, 1.6, 1. , 1.1])"
      ]
     },
     "execution_count": 48,
     "metadata": {},
     "output_type": "execute_result"
    }
   ],
   "source": [
    "df['Rating'].unique()"
   ]
  },
  {
   "cell_type": "markdown",
   "id": "00d4bd9a",
   "metadata": {},
   "source": [
    "let's change the Rating Count to certain ranges for better understanding of the data"
   ]
  },
  {
   "cell_type": "code",
   "execution_count": 49,
   "id": "34622020",
   "metadata": {},
   "outputs": [
    {
     "data": {
      "text/plain": [
       "138557570.0"
      ]
     },
     "execution_count": 49,
     "metadata": {},
     "output_type": "execute_result"
    }
   ],
   "source": [
    "df['Rating Count'].max()"
   ]
  },
  {
   "cell_type": "code",
   "execution_count": 50,
   "id": "a2408f81",
   "metadata": {},
   "outputs": [
    {
     "data": {
      "text/plain": [
       "Less than 10K           1192801\n",
       "Between 10K and 500K      35779\n",
       "More than 500K             1665\n",
       "Name: RatingType, dtype: int64"
      ]
     },
     "execution_count": 50,
     "metadata": {},
     "output_type": "execute_result"
    }
   ],
   "source": [
    "df['Rating Type'] = 'NoRatingProvided'\n",
    "df.loc[(df['Rating Count'] > 0) & (df['Rating Count'] <= 10000.0),'RatingType'] = 'Less than 10K'\n",
    "df.loc[(df['Rating Count'] > 10000) & (df['Rating Count'] <= 500000.0),'RatingType'] = 'Between 10K and 500K'\n",
    "df.loc[(df['Rating Count'] > 500000) & (df['Rating Count'] <= 138557570.0),'RatingType'] = 'More than 500K'\n",
    "df.RatingType.value_counts()"
   ]
  },
  {
   "cell_type": "code",
   "execution_count": 51,
   "id": "6541dbdf",
   "metadata": {},
   "outputs": [
    {
     "name": "stdout",
     "output_type": "stream",
     "text": [
      "<class 'pandas.core.frame.DataFrame'>\n",
      "Int64Index: 2312548 entries, 0 to 2312943\n",
      "Data columns (total 26 columns):\n",
      " #   Column             Dtype  \n",
      "---  ------             -----  \n",
      " 0   App Name           object \n",
      " 1   App Id             object \n",
      " 2   Category           object \n",
      " 3   Rating             float64\n",
      " 4   Rating Count       float64\n",
      " 5   Installs           int64  \n",
      " 6   Minimum Installs   float64\n",
      " 7   Maximum Installs   int64  \n",
      " 8   Price              float64\n",
      " 9   Currency           object \n",
      " 10  Size               float64\n",
      " 11  Minimum Android    object \n",
      " 12  Developer Id       object \n",
      " 13  Developer Website  object \n",
      " 14  Developer Email    object \n",
      " 15  Released           object \n",
      " 16  Last Updated       object \n",
      " 17  Content Rating     object \n",
      " 18  Privacy Policy     object \n",
      " 19  Ad Supported       bool   \n",
      " 20  In App Purchases   bool   \n",
      " 21  Editors Choice     bool   \n",
      " 22  Scraped Time       object \n",
      " 23  Type               object \n",
      " 24  Rating Type        object \n",
      " 25  RatingType         object \n",
      "dtypes: bool(3), float64(5), int64(2), object(16)\n",
      "memory usage: 430.1+ MB\n"
     ]
    }
   ],
   "source": [
    "df.info()"
   ]
  },
  {
   "cell_type": "markdown",
   "id": "9145cd3c",
   "metadata": {},
   "source": [
    "###### Top 10 Categories that are installed from the Google Play Store ?"
   ]
  },
  {
   "cell_type": "code",
   "execution_count": 52,
   "id": "a7cd4dc2",
   "metadata": {},
   "outputs": [
    {
     "data": {
      "text/plain": [
       "array(['Adventure', 'Tools', 'Productivity', 'Communication', 'Social',\n",
       "       'Libraries & Demo', 'Lifestyle', 'Personalization', 'Racing',\n",
       "       'Maps & Navigation', 'Travel & Local', 'Food & Drink',\n",
       "       'Books & Reference', 'Medical', 'Puzzle', 'Entertainment',\n",
       "       'Arcade', 'Auto & Vehicles', 'Photography', 'Health & Fitness',\n",
       "       'Education', 'Shopping', 'Board', 'Music & Audio', 'Sports',\n",
       "       'Beauty', 'Business', 'Educational', 'Finance', 'News & Magazines',\n",
       "       'Casual', 'Art & Design', 'House & Home', 'Card', 'Events',\n",
       "       'Trivia', 'Weather', 'Strategy', 'Word', 'Video Players & Editors',\n",
       "       'Action', 'Simulation', 'Music', 'Dating', 'Role Playing',\n",
       "       'Casino', 'Comics', 'Parenting'], dtype=object)"
      ]
     },
     "execution_count": 52,
     "metadata": {},
     "output_type": "execute_result"
    }
   ],
   "source": [
    "df['Category'].unique()"
   ]
  },
  {
   "cell_type": "code",
   "execution_count": 53,
   "id": "138cc9f9",
   "metadata": {},
   "outputs": [],
   "source": [
    "top_Category = df.Category.value_counts().reset_index().rename(columns={'Category':'Count','index':'Category'})"
   ]
  },
  {
   "cell_type": "code",
   "execution_count": 54,
   "id": "6140daa8",
   "metadata": {},
   "outputs": [
    {
     "data": {
      "text/html": [
       "<div>\n",
       "<style scoped>\n",
       "    .dataframe tbody tr th:only-of-type {\n",
       "        vertical-align: middle;\n",
       "    }\n",
       "\n",
       "    .dataframe tbody tr th {\n",
       "        vertical-align: top;\n",
       "    }\n",
       "\n",
       "    .dataframe thead th {\n",
       "        text-align: right;\n",
       "    }\n",
       "</style>\n",
       "<table border=\"1\" class=\"dataframe\">\n",
       "  <thead>\n",
       "    <tr style=\"text-align: right;\">\n",
       "      <th></th>\n",
       "      <th>Category</th>\n",
       "      <th>Count</th>\n",
       "    </tr>\n",
       "  </thead>\n",
       "  <tbody>\n",
       "    <tr>\n",
       "      <th>0</th>\n",
       "      <td>Education</td>\n",
       "      <td>241068</td>\n",
       "    </tr>\n",
       "    <tr>\n",
       "      <th>1</th>\n",
       "      <td>Music &amp; Audio</td>\n",
       "      <td>154897</td>\n",
       "    </tr>\n",
       "    <tr>\n",
       "      <th>2</th>\n",
       "      <td>Tools</td>\n",
       "      <td>143971</td>\n",
       "    </tr>\n",
       "    <tr>\n",
       "      <th>3</th>\n",
       "      <td>Business</td>\n",
       "      <td>143749</td>\n",
       "    </tr>\n",
       "    <tr>\n",
       "      <th>4</th>\n",
       "      <td>Entertainment</td>\n",
       "      <td>138261</td>\n",
       "    </tr>\n",
       "  </tbody>\n",
       "</table>\n",
       "</div>"
      ],
      "text/plain": [
       "        Category   Count\n",
       "0      Education  241068\n",
       "1  Music & Audio  154897\n",
       "2          Tools  143971\n",
       "3       Business  143749\n",
       "4  Entertainment  138261"
      ]
     },
     "execution_count": 54,
     "metadata": {},
     "output_type": "execute_result"
    }
   ],
   "source": [
    "top_Category.head()"
   ]
  },
  {
   "cell_type": "code",
   "execution_count": 55,
   "id": "da14a9da",
   "metadata": {},
   "outputs": [],
   "source": [
    "Category_installs = df.groupby(['Category'])[['Installs']].sum()"
   ]
  },
  {
   "cell_type": "code",
   "execution_count": 56,
   "id": "dd7ca9c3",
   "metadata": {},
   "outputs": [
    {
     "data": {
      "text/html": [
       "<div>\n",
       "<style scoped>\n",
       "    .dataframe tbody tr th:only-of-type {\n",
       "        vertical-align: middle;\n",
       "    }\n",
       "\n",
       "    .dataframe tbody tr th {\n",
       "        vertical-align: top;\n",
       "    }\n",
       "\n",
       "    .dataframe thead th {\n",
       "        text-align: right;\n",
       "    }\n",
       "</style>\n",
       "<table border=\"1\" class=\"dataframe\">\n",
       "  <thead>\n",
       "    <tr style=\"text-align: right;\">\n",
       "      <th></th>\n",
       "      <th>Installs</th>\n",
       "    </tr>\n",
       "    <tr>\n",
       "      <th>Category</th>\n",
       "      <th></th>\n",
       "    </tr>\n",
       "  </thead>\n",
       "  <tbody>\n",
       "    <tr>\n",
       "      <th>Action</th>\n",
       "      <td>17399855328</td>\n",
       "    </tr>\n",
       "    <tr>\n",
       "      <th>Adventure</th>\n",
       "      <td>5390108856</td>\n",
       "    </tr>\n",
       "    <tr>\n",
       "      <th>Arcade</th>\n",
       "      <td>14501230855</td>\n",
       "    </tr>\n",
       "    <tr>\n",
       "      <th>Art &amp; Design</th>\n",
       "      <td>1116398902</td>\n",
       "    </tr>\n",
       "    <tr>\n",
       "      <th>Auto &amp; Vehicles</th>\n",
       "      <td>1594745418</td>\n",
       "    </tr>\n",
       "  </tbody>\n",
       "</table>\n",
       "</div>"
      ],
      "text/plain": [
       "                    Installs\n",
       "Category                    \n",
       "Action           17399855328\n",
       "Adventure         5390108856\n",
       "Arcade           14501230855\n",
       "Art & Design      1116398902\n",
       "Auto & Vehicles   1594745418"
      ]
     },
     "execution_count": 56,
     "metadata": {},
     "output_type": "execute_result"
    }
   ],
   "source": [
    "Category_installs.head()"
   ]
  },
  {
   "cell_type": "code",
   "execution_count": 57,
   "id": "0893b991",
   "metadata": {},
   "outputs": [
    {
     "data": {
      "text/html": [
       "<div>\n",
       "<style scoped>\n",
       "    .dataframe tbody tr th:only-of-type {\n",
       "        vertical-align: middle;\n",
       "    }\n",
       "\n",
       "    .dataframe tbody tr th {\n",
       "        vertical-align: top;\n",
       "    }\n",
       "\n",
       "    .dataframe thead th {\n",
       "        text-align: right;\n",
       "    }\n",
       "</style>\n",
       "<table border=\"1\" class=\"dataframe\">\n",
       "  <thead>\n",
       "    <tr style=\"text-align: right;\">\n",
       "      <th></th>\n",
       "      <th>Category</th>\n",
       "      <th>Count</th>\n",
       "      <th>Installs</th>\n",
       "    </tr>\n",
       "  </thead>\n",
       "  <tbody>\n",
       "    <tr>\n",
       "      <th>0</th>\n",
       "      <td>Education</td>\n",
       "      <td>241068</td>\n",
       "      <td>5983815847</td>\n",
       "    </tr>\n",
       "    <tr>\n",
       "      <th>1</th>\n",
       "      <td>Music &amp; Audio</td>\n",
       "      <td>154897</td>\n",
       "      <td>14239401798</td>\n",
       "    </tr>\n",
       "    <tr>\n",
       "      <th>2</th>\n",
       "      <td>Tools</td>\n",
       "      <td>143971</td>\n",
       "      <td>71440271217</td>\n",
       "    </tr>\n",
       "    <tr>\n",
       "      <th>3</th>\n",
       "      <td>Business</td>\n",
       "      <td>143749</td>\n",
       "      <td>5236661902</td>\n",
       "    </tr>\n",
       "    <tr>\n",
       "      <th>4</th>\n",
       "      <td>Entertainment</td>\n",
       "      <td>138261</td>\n",
       "      <td>17108397933</td>\n",
       "    </tr>\n",
       "  </tbody>\n",
       "</table>\n",
       "</div>"
      ],
      "text/plain": [
       "        Category   Count     Installs\n",
       "0      Education  241068   5983815847\n",
       "1  Music & Audio  154897  14239401798\n",
       "2          Tools  143971  71440271217\n",
       "3       Business  143749   5236661902\n",
       "4  Entertainment  138261  17108397933"
      ]
     },
     "execution_count": 57,
     "metadata": {},
     "output_type": "execute_result"
    }
   ],
   "source": [
    "top_Category_installs = pd.merge(top_Category, Category_installs, on='Category')\n",
    "top_Category_installs.head(5)"
   ]
  },
  {
   "cell_type": "code",
   "execution_count": 58,
   "id": "12796400",
   "metadata": {},
   "outputs": [
    {
     "ename": "NameError",
     "evalue": "name 'top_10_Categories_installsategories_installs' is not defined",
     "output_type": "error",
     "traceback": [
      "\u001b[1;31m---------------------------------------------------------------------------\u001b[0m",
      "\u001b[1;31mNameError\u001b[0m                                 Traceback (most recent call last)",
      "Input \u001b[1;32mIn [58]\u001b[0m, in \u001b[0;36m<cell line: 2>\u001b[1;34m()\u001b[0m\n\u001b[0;32m      1\u001b[0m top_10_Categories_installs \u001b[38;5;241m=\u001b[39m top_Category_installs\u001b[38;5;241m.\u001b[39mhead(\u001b[38;5;241m10\u001b[39m)\u001b[38;5;241m.\u001b[39msort_values(by \u001b[38;5;241m=\u001b[39m [\u001b[38;5;124m'\u001b[39m\u001b[38;5;124mInstalls\u001b[39m\u001b[38;5;124m'\u001b[39m],ascending \u001b[38;5;241m=\u001b[39m \u001b[38;5;28;01mFalse\u001b[39;00m)\n\u001b[1;32m----> 2\u001b[0m \u001b[43mtop_10_Categories_installsategories_installs\u001b[49m\n",
      "\u001b[1;31mNameError\u001b[0m: name 'top_10_Categories_installsategories_installs' is not defined"
     ]
    }
   ],
   "source": [
    "top_10_Categories_installs = top_Category_installs.head(10).sort_values(by = ['Installs'],ascending = False)\n",
    "top_10_Categories_installsategories_installs"
   ]
  },
  {
   "cell_type": "code",
   "execution_count": null,
   "id": "c5626e42",
   "metadata": {},
   "outputs": [],
   "source": [
    "plt.figure(figsize=(14,7))\n",
    "plt.xticks(rotation=60)\n",
    "plt.xlabel(\"Category\")\n",
    "plt.ylabel(\"Number of applications\")\n",
    "plt.title(\"Top 10 Installed Categories\")\n",
    "sns.barplot(top_10_Categories_installs.Category, top_10_Categories_installs.Installs)"
   ]
  },
  {
   "cell_type": "markdown",
   "id": "8cce3212",
   "metadata": {},
   "source": [
    "### Answer - Tools, Productivity,Education, Music & Audio, Personalization, Lifestyle, Education, Business, Books & Reference, Health & Fitness"
   ]
  },
  {
   "cell_type": "markdown",
   "id": "10766f41",
   "metadata": {},
   "source": [
    "######  Which are the Categories that are getting installed the most in the top 10 Categories?"
   ]
  },
  {
   "cell_type": "code",
   "execution_count": null,
   "id": "9d4dba5e",
   "metadata": {},
   "outputs": [],
   "source": [
    "plt.figure(figsize=(14,7))\n",
    "plt.xticks(rotation=60)\n",
    "plt.xlabel(\"Category\")\n",
    "plt.ylabel(\"Number of applications\")\n",
    "plt.title(\"Top 10 Categories\")\n",
    "sns.barplot(top_10_Categories_installs.Category, top_10_Categories_installs.Count)"
   ]
  },
  {
   "cell_type": "markdown",
   "id": "260e1f5a",
   "metadata": {},
   "source": [
    "#### Answer - Tools, Productivity,Education, Music & Audio, Personalization, Lifestyle, Education, Business, Books & Reference, Health & Fitness"
   ]
  },
  {
   "cell_type": "markdown",
   "id": "29b2a5a8",
   "metadata": {},
   "source": [
    "We can observe from the two plots above that the Maxinum number of application present in google play store comes under Education Tools, Business and Entertainment etc., Categories but the number of installation is different. Maximum installed application are Tools, Productivity,Entertainment, Music & Audio etc..."
   ]
  },
  {
   "cell_type": "markdown",
   "id": "eb053506",
   "metadata": {},
   "source": [
    "###### visualize Total Categories and the count of Apps in each catgeroy "
   ]
  },
  {
   "cell_type": "code",
   "execution_count": 59,
   "id": "5d067000",
   "metadata": {},
   "outputs": [
    {
     "name": "stderr",
     "output_type": "stream",
     "text": [
      "C:\\Users\\techpc\\anaconda3\\lib\\site-packages\\seaborn\\_decorators.py:36: FutureWarning: Pass the following variables as keyword args: x, y. From version 0.12, the only valid positional argument will be `data`, and passing other arguments without an explicit keyword will result in an error or misinterpretation.\n",
      "  warnings.warn(\n"
     ]
    },
    {
     "data": {
      "text/plain": [
       "<AxesSubplot:title={'center':'Total Categories and count of Applications in each category '}, xlabel='Category', ylabel='Count'>"
      ]
     },
     "execution_count": 59,
     "metadata": {},
     "output_type": "execute_result"
    },
    {
     "data": {
      "image/png": "[encoded data removed]",
      "text/plain": [
       "<Figure size 1008x504 with 1 Axes>"
      ]
     },
     "metadata": {
      "needs_background": "light"
     },
     "output_type": "display_data"
    }
   ],
   "source": [
    "plt.figure(figsize=(14,7))\n",
    "plt.xticks(rotation=90)\n",
    "plt.xlabel(\"Category\")\n",
    "plt.ylabel(\"Number of applications\")\n",
    "plt.title(\"Total Categories and count of Applications in each category \")\n",
    "sns.barplot(top_Category_installs.Category, top_Category_installs.Count)"
   ]
  },
  {
   "cell_type": "markdown",
   "id": "c1aaf342",
   "metadata": {},
   "source": [
    "###### Visualize Total Categories and installed Applications in each category"
   ]
  },
  {
   "cell_type": "code",
   "execution_count": 60,
   "id": "fd9aba77",
   "metadata": {},
   "outputs": [
    {
     "name": "stderr",
     "output_type": "stream",
     "text": [
      "C:\\Users\\techpc\\anaconda3\\lib\\site-packages\\seaborn\\_decorators.py:36: FutureWarning: Pass the following variables as keyword args: x, y. From version 0.12, the only valid positional argument will be `data`, and passing other arguments without an explicit keyword will result in an error or misinterpretation.\n",
      "  warnings.warn(\n"
     ]
    },
    {
     "data": {
      "text/plain": [
       "<AxesSubplot:title={'center':'Total Categories and Installation of Applications in each category '}, xlabel='Category', ylabel='Installs'>"
      ]
     },
     "execution_count": 60,
     "metadata": {},
     "output_type": "execute_result"
    },
    {
     "data": {
      "image/png": "[encoded data removed]",
      "text/plain": [
       "<Figure size 1008x504 with 1 Axes>"
      ]
     },
     "metadata": {
      "needs_background": "light"
     },
     "output_type": "display_data"
    }
   ],
   "source": [
    "plt.figure(figsize=(14,7))\n",
    "plt.xticks(rotation=90)\n",
    "plt.xlabel(\"Category\")\n",
    "plt.ylabel(\"Number of applications\")\n",
    "plt.title(\"Total Categories and Installation of Applications in each category \")\n",
    "sns.barplot(top_Category_installs.Category, top_Category_installs.Installs)"
   ]
  },
  {
   "cell_type": "markdown",
   "id": "3997694d",
   "metadata": {},
   "source": [
    "###### Rating distribution"
   ]
  },
  {
   "cell_type": "code",
   "execution_count": 61,
   "id": "1687cd5f",
   "metadata": {},
   "outputs": [
    {
     "data": {
      "text/plain": [
       "Text(0.5, 1.0, 'Distribution of Rating')"
      ]
     },
     "execution_count": 61,
     "metadata": {},
     "output_type": "execute_result"
    },
    {
     "data": {
      "image/png": "[encoded data removed]",
      "text/plain": [
       "<Figure size 1008x504 with 1 Axes>"
      ]
     },
     "metadata": {
      "needs_background": "light"
     },
     "output_type": "display_data"
    }
   ],
   "source": [
    "plt.figure(figsize=(14,7))\n",
    "g = sns.kdeplot(df.Rating, color=\"Blue\", shade = True)\n",
    "g.set_xlabel(\"Rating\")\n",
    "g.set_ylabel(\"Frequency\")\n",
    "plt.title('Distribution of Rating',size = 20)"
   ]
  },
  {
   "cell_type": "code",
   "execution_count": 62,
   "id": "d6d86330",
   "metadata": {},
   "outputs": [
    {
     "data": {
      "text/plain": [
       "<AxesSubplot:title={'center':'Rating'}, xlabel='Rating', ylabel='Count'>"
      ]
     },
     "execution_count": 62,
     "metadata": {},
     "output_type": "execute_result"
    },
    {
     "data": {
      "image/png": "[encoded data removed]",
      "text/plain": [
       "<Figure size 1440x432 with 1 Axes>"
      ]
     },
     "metadata": {
      "needs_background": "light"
     },
     "output_type": "display_data"
    }
   ],
   "source": [
    "plt.title(\"Rating\")\n",
    "sns.histplot(df.Rating,kde=True,bins=5)"
   ]
  },
  {
   "cell_type": "markdown",
   "id": "72cc5c38",
   "metadata": {},
   "source": [
    "From the last two plots we can see that most people did not give a rating,and also people tend to give 4+ rating the most."
   ]
  },
  {
   "cell_type": "markdown",
   "id": "2e828bc6",
   "metadata": {},
   "source": [
    "######  What is the higest rated Category?"
   ]
  },
  {
   "cell_type": "code",
   "execution_count": 63,
   "id": "c099cd6b",
   "metadata": {},
   "outputs": [
    {
     "name": "stderr",
     "output_type": "stream",
     "text": [
      "C:\\Users\\techpc\\anaconda3\\lib\\site-packages\\seaborn\\_decorators.py:36: FutureWarning: Pass the following variables as keyword args: x, y. From version 0.12, the only valid positional argument will be `data`, and passing other arguments without an explicit keyword will result in an error or misinterpretation.\n",
      "  warnings.warn(\n"
     ]
    },
    {
     "data": {
      "text/plain": [
       "<AxesSubplot:title={'center':'All Categories Rating '}, xlabel='Category', ylabel='Rating'>"
      ]
     },
     "execution_count": 63,
     "metadata": {},
     "output_type": "execute_result"
    },
    {
     "data": {
      "image/png": "[encoded data removed]",
      "text/plain": [
       "<Figure size 1008x504 with 1 Axes>"
      ]
     },
     "metadata": {
      "needs_background": "light"
     },
     "output_type": "display_data"
    }
   ],
   "source": [
    "plt.figure(figsize=(14,7))\n",
    "plt.xticks(rotation=90)\n",
    "plt.xlabel(\"Highest Rated Category\")\n",
    "plt.ylabel(\"Number of applications\")\n",
    "plt.title(\"All Categories Rating \")\n",
    "sns.barplot(df.Category, df.Rating)"
   ]
  },
  {
   "cell_type": "markdown",
   "id": "341c4452",
   "metadata": {},
   "source": [
    "## Answer - From the above plot we can see that Role Playing is the highest Rated category"
   ]
  },
  {
   "cell_type": "code",
   "execution_count": 64,
   "id": "3d9a52d9",
   "metadata": {},
   "outputs": [
    {
     "data": {
      "text/plain": [
       "array(['Everyone', 'Teen', 'Adults'], dtype=object)"
      ]
     },
     "execution_count": 64,
     "metadata": {},
     "output_type": "execute_result"
    }
   ],
   "source": [
    "df['Content Rating'].unique()"
   ]
  },
  {
   "cell_type": "code",
   "execution_count": 65,
   "id": "cd3767f7",
   "metadata": {},
   "outputs": [
    {
     "data": {
      "text/plain": [
       "<AxesSubplot:title={'center':'Content Rating and Maximum installations '}, xlabel='Maximum Installs', ylabel='Rating Count'>"
      ]
     },
     "execution_count": 65,
     "metadata": {},
     "output_type": "execute_result"
    },
    {
     "data": {
      "image/png": "[encoded data removed]",
      "text/plain": [
       "<Figure size 576x576 with 1 Axes>"
      ]
     },
     "metadata": {
      "needs_background": "light"
     },
     "output_type": "display_data"
    }
   ],
   "source": [
    "plt.figure(figsize=(8,8))\n",
    "plt.title(\"Content Rating and Maximum installations \")\n",
    "sns.scatterplot(x='Maximum Installs',y='Rating Count',data=df,hue='Content Rating')"
   ]
  },
  {
   "cell_type": "markdown",
   "id": "d7accdc7",
   "metadata": {},
   "source": [
    "The above scatterplot shows us that:\n",
    "If we exclude everyone from the plot and focus on Teen and Adults we can see that teens have much engagement in terms of download and rating count."
   ]
  },
  {
   "cell_type": "markdown",
   "id": "36a42148",
   "metadata": {},
   "source": [
    "## - Which Category has the highest Paid and Free apps ?"
   ]
  },
  {
   "cell_type": "code",
   "execution_count": 67,
   "id": "888487e9",
   "metadata": {},
   "outputs": [],
   "source": [
    "app_count = df.groupby(['Category','Type'])[['App Name']].count().reset_index().rename(columns={'App Name':'Count','index':'App Name'})\n",
    "df_app_count = app_count.pivot('Category', 'Type', 'Count').fillna(0).reset_index()"
   ]
  },
  {
   "cell_type": "code",
   "execution_count": 68,
   "id": "cfd7e5d9",
   "metadata": {},
   "outputs": [
    {
     "data": {
      "text/plain": [
       "Text(0.5, 1.0, 'Free and Paid Apps in Category')"
      ]
     },
     "execution_count": 68,
     "metadata": {},
     "output_type": "execute_result"
    },
    {
     "data": {
      "image/png": "[encoded data removed]",
      "text/plain": [
       "<Figure size 1296x648 with 1 Axes>"
      ]
     },
     "metadata": {
      "needs_background": "light"
     },
     "output_type": "display_data"
    }
   ],
   "source": [
    "df_app_count.set_index('Category').plot(kind='bar', stacked=True, figsize=(18,9)) # try df_app_count.plot(kind='bar', stacked=True, figsize=(18,9))\n",
    "plt.xlabel(\"Category\", fontsize=15)\n",
    "plt.ylabel(\"Count\", fontsize=15)\n",
    "plt.title(\"Free and Paid Apps in Category\")"
   ]
  },
  {
   "cell_type": "markdown",
   "id": "4e8fb8f8",
   "metadata": {},
   "source": [
    "###### Answer - Education Category is the highest in paid application list"
   ]
  },
  {
   "cell_type": "markdown",
   "id": "b0c8d892",
   "metadata": {},
   "source": [
    "It looks like certain app categories have more free apps available for download than others. In our dataset, the majority of apps in Business,Education, Music & Audio, Tools as well as Social categories were free to install. At the same time Books & References, Education, Tools and Personalization categories had the biggest number of paid apps available for Installation."
   ]
  },
  {
   "cell_type": "markdown",
   "id": "4d0e693c",
   "metadata": {},
   "source": [
    "## Visualize the Installation Types in each category"
   ]
  },
  {
   "cell_type": "code",
   "execution_count": 69,
   "id": "e7feac0d",
   "metadata": {},
   "outputs": [
    {
     "data": {
      "text/plain": [
       "(0, 10000000000)"
      ]
     },
     "execution_count": 69,
     "metadata": {},
     "output_type": "execute_result"
    }
   ],
   "source": [
    "df['Installs'].min(),df['Installs'].max()"
   ]
  },
  {
   "cell_type": "markdown",
   "id": "7f948274",
   "metadata": {},
   "source": [
    "There is a high variance in the number of installs, we need to reduce it so we can use a log value for this column, otherwise it would be unable to see the data when we visualize"
   ]
  },
  {
   "cell_type": "code",
   "execution_count": 70,
   "id": "d2a4badb",
   "metadata": {},
   "outputs": [],
   "source": [
    "categoty_type_installs = df.groupby(['Category','Type'])[['Installs']].sum().reset_index()\n",
    "categoty_type_installs['log_Installs'] = np.log10(categoty_type_installs['Installs'])"
   ]
  },
  {
   "cell_type": "code",
   "execution_count": 71,
   "id": "7056c9bd",
   "metadata": {},
   "outputs": [
    {
     "name": "stderr",
     "output_type": "stream",
     "text": [
      "C:\\Users\\techpc\\anaconda3\\lib\\site-packages\\seaborn\\_decorators.py:36: FutureWarning: Pass the following variables as keyword args: x, y. From version 0.12, the only valid positional argument will be `data`, and passing other arguments without an explicit keyword will result in an error or misinterpretation.\n",
      "  warnings.warn(\n"
     ]
    },
    {
     "data": {
      "text/plain": [
       "<AxesSubplot:title={'center':'Number of installed Apps type wise according to Category'}, xlabel='Category', ylabel='log_Installs'>"
      ]
     },
     "execution_count": 71,
     "metadata": {},
     "output_type": "execute_result"
    },
    {
     "data": {
      "image/png": "[encoded data removed]",
      "text/plain": [
       "<Figure size 1296x648 with 1 Axes>"
      ]
     },
     "metadata": {
      "needs_background": "light"
     },
     "output_type": "display_data"
    }
   ],
   "source": [
    "plt.figure(figsize=(18,9))\n",
    "plt.xticks(rotation=65,fontsize=9)\n",
    "plt.xlabel(\"Category\")\n",
    "plt.ylabel(\"Installs\")\n",
    "plt.title(\"Number of installed Apps type wise according to Category\")\n",
    "sns.barplot('Category','log_Installs', hue='Type', data=categoty_type_installs)"
   ]
  },
  {
   "cell_type": "code",
   "execution_count": null,
   "id": "a24483bc",
   "metadata": {},
   "outputs": [],
   "source": []
  }
 ],
 "metadata": {
  "kernelspec": {
   "display_name": "Python 3 (ipykernel)",
   "language": "python",
   "name": "python3"
  },
  "language_info": {
   "codemirror_mode": {
    "name": "ipython",
    "version": 3
   },
   "file_extension": ".py",
   "mimetype": "text/x-python",
   "name": "python",
   "nbconvert_exporter": "python",
   "pygments_lexer": "ipython3",
   "version": "3.9.12"
  }
 },
 "nbformat": 4,
 "nbformat_minor": 5
}
